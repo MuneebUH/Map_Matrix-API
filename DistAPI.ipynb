{
  "nbformat": 4,
  "nbformat_minor": 0,
  "metadata": {
    "colab": {
      "provenance": []
    },
    "kernelspec": {
      "name": "python3",
      "display_name": "Python 3"
    },
    "language_info": {
      "name": "python"
    }
  },
  "cells": [
    {
      "cell_type": "markdown",
      "source": [
        "https://github.com/MuneebUH?tab=repositories"
      ],
      "metadata": {
        "id": "aQNerLqZY1iO"
      }
    },
    {
      "cell_type": "code",
      "execution_count": null,
      "metadata": {
        "colab": {
          "base_uri": "https://localhost:8080/"
        },
        "id": "UF7nz5aARGAP",
        "outputId": "e1df32b3-ecaf-46d6-c16b-581226cc6b9e"
      },
      "outputs": [
        {
          "output_type": "stream",
          "name": "stdout",
          "text": [
            "  Preparing metadata (setup.py) ... \u001b[?25l\u001b[?25hdone\n",
            "  Building wheel for googlemaps (setup.py) ... \u001b[?25l\u001b[?25hdone\n"
          ]
        }
      ],
      "source": [
        "!pip -q install googlemaps\n",
        "!pip -q install requests\n"
      ]
    },
    {
      "cell_type": "code",
      "source": [
        "import requests\n",
        "import googlemaps\n",
        "import json\n",
        "from datetime import timedelta  # Import timedelta for formatting"
      ],
      "metadata": {
        "id": "RIhYpQGWRdWJ"
      },
      "execution_count": null,
      "outputs": []
    },
    {
      "cell_type": "code",
      "source": [],
      "metadata": {
        "id": "ZG_Ix5cRX1ky"
      },
      "execution_count": null,
      "outputs": []
    },
    {
      "cell_type": "code",
      "source": [
        "API_KEY = \"\"\n",
        "gmaps = googlemaps.Client(API_KEY)"
      ],
      "metadata": {
        "id": "t-VQyOsNRO4O"
      },
      "execution_count": null,
      "outputs": []
    },
    {
      "cell_type": "code",
      "source": [],
      "metadata": {
        "id": "YH6xA7GkZNTP"
      },
      "execution_count": null,
      "outputs": []
    },
    {
      "cell_type": "code",
      "source": [
        "# Function to get latitude & longitude from place name\n",
        "def get_coordinates(place_name):\n",
        "    geocode_result = gmaps.geocode(place_name)\n",
        "    if geocode_result:\n",
        "        location = geocode_result[0]['geometry']['location']\n",
        "        return {\"latitude\": location[\"lat\"], \"longitude\": location[\"lng\"]}\n",
        "    else:\n",
        "        print(f\"❌ Error: Unable to find location for '{place_name}'.\")\n",
        "        return None\n",
        "\n",
        "# Function to format duration using timedelta\n",
        "def format_duration(seconds):\n",
        "    duration = timedelta(seconds=seconds)  # Convert seconds to timedelta\n",
        "    days = duration.days\n",
        "    hours, remainder = divmod(duration.seconds, 3600)\n",
        "    minutes = remainder // 60\n",
        "\n",
        "    return f\"{days} days {hours} hrs {minutes} min\" if days > 0 else f\"{hours} hrs {minutes} min\"\n",
        "\n",
        "# Get user input for origin and destination\n",
        "print(\"\\n🚗 Enter your starting point and destination to calculate distance & travel time.\\n\")\n",
        "origin_input = input(\"📍 Enter your starting location (city name or coordinates, e.g., '33.6844,73.0479'): \")\n",
        "destination_input = input(\"🎯 Enter your destination (city name or coordinates, e.g., '31.5497,74.3436'): \")\n",
        "\n",
        "# Determine if input is a city name or coordinates\n",
        "def parse_location_input(location):\n",
        "    if \",\" in location:\n",
        "        try:\n",
        "            lat, lng = map(float, location.split(\",\"))\n",
        "            return {\"latitude\": lat, \"longitude\": lng}\n",
        "        except ValueError:\n",
        "            print(f\"❌ Invalid coordinates: {location}\")\n",
        "            return None\n",
        "    else:\n",
        "        return get_coordinates(location)\n",
        "\n",
        "# Get coordinates\n",
        "origin_coordinates = parse_location_input(origin_input)\n",
        "destination_coordinates = parse_location_input(destination_input)\n",
        "\n",
        "# Ensure valid coordinates were found\n",
        "if not origin_coordinates or not destination_coordinates:\n",
        "    print(\"⚠️ Invalid input. Please enter valid city names or coordinates.\")\n",
        "    exit()\n",
        "\n",
        "# Routes API endpoint\n",
        "URL = \"https://routes.googleapis.com/distanceMatrix/v2:computeRouteMatrix\"\n",
        "\n",
        "# Request payload\n",
        "payload = {\n",
        "    \"origins\": [{\"waypoint\": {\"location\": {\"latLng\": origin_coordinates}}}],\n",
        "    \"destinations\": [{\"waypoint\": {\"location\": {\"latLng\": destination_coordinates}}}],\n",
        "    \"travelMode\": \"DRIVE\",\n",
        "    \"routingPreference\": \"TRAFFIC_AWARE\"\n",
        "}\n",
        "\n",
        "# Request headers\n",
        "headers = {\n",
        "    \"Content-Type\": \"application/json\",\n",
        "    \"X-Goog-Api-Key\": API_KEY,\n",
        "    \"X-Goog-FieldMask\": \"originIndex,destinationIndex,duration,distanceMeters,status,condition\"\n",
        "}\n",
        "\n",
        "# Make API request\n",
        "response = requests.post(URL, headers=headers, json=payload)\n",
        "\n",
        "# Process response\n",
        "if response.status_code == 200:\n",
        "    try:\n",
        "        routes = response.json()\n",
        "        for route in routes:\n",
        "            distance_meters = route.get(\"distanceMeters\", 0)\n",
        "            duration_seconds = int(route.get(\"duration\", \"0s\").replace(\"s\", \"\"))\n",
        "\n",
        "            # Convert distance to kilometers\n",
        "            distance_km = distance_meters / 1000\n",
        "\n",
        "            # Format duration using timedelta\n",
        "            formatted_duration = format_duration(duration_seconds)\n",
        "\n",
        "            print(f\"\\n✅ Route from {origin_input} to {destination_input}:\")\n",
        "            print(f\"   📏 Distance: {distance_km:.2f} km\")\n",
        "            print(f\"   ⏳ Duration: {formatted_duration}\\n\")\n",
        "    except json.JSONDecodeError:\n",
        "        print(\"⚠️ Error: Unable to parse response JSON.\")\n",
        "else:\n",
        "    print(f\"❌ API Error: {response.status_code} - {response.text}\")\n"
      ],
      "metadata": {
        "colab": {
          "base_uri": "https://localhost:8080/"
        },
        "id": "joaCPCKLRjwd",
        "outputId": "36936808-842f-4432-c90e-a3a2ab0211a9"
      },
      "execution_count": null,
      "outputs": [
        {
          "output_type": "stream",
          "name": "stdout",
          "text": [
            "\n",
            "🚗 Enter your starting point and destination to calculate distance & travel time.\n",
            "\n",
            "📍 Enter your starting location (city name or coordinates, e.g., '33.6844,73.0479'): Lahore\n",
            "🎯 Enter your destination (city name or coordinates, e.g., '31.5497,74.3436'): Karachi\n",
            "\n",
            "✅ Route from Lahore to Karachi:\n",
            "   📏 Distance: 1221.82 km\n",
            "   ⏳ Duration: 14 hrs 32 min\n",
            "\n"
          ]
        }
      ]
    }
  ]
}